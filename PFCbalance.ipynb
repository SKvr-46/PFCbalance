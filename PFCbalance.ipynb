{
 "cells": [
  {
   "cell_type": "code",
   "execution_count": null,
   "id": "12fef5b2",
   "metadata": {},
   "outputs": [],
   "source": [
    "import pandas as pd\n",
    "import matplotlib.pyplot as plt\n",
    "\n",
    "\n",
    "# Excelファイルを読み込み\n",
    "excel_file = pd.read_excel('calcal.xlsx')\n",
    "\n",
    "# CSVに変換してファイルに書き込み\n",
    "csv_file = excel_file.to_csv('calcal.csv', index=False)\n",
    "\n",
    "# Excelファイルを読み込み\n",
    "excel_file_material = pd.read_excel('material.xlsx')\n",
    "\n",
    "# CSVに変換してファイルに書き込み\n",
    "csv_file_material = excel_file_material.to_csv('material.csv', index=False)"
   ]
  },
  {
   "cell_type": "code",
   "execution_count": null,
   "id": "400178a8",
   "metadata": {},
   "outputs": [],
   "source": [
    "#p:f:c=30:10:60を理想的とする"
   ]
  },
  {
   "cell_type": "code",
   "execution_count": null,
   "id": "5fe42c38",
   "metadata": {},
   "outputs": [],
   "source": [
    "import math\n",
    "\n",
    "def pfc(x,y,z):\n",
    "    if(x == 0 or y == 0 or z == 0):\n",
    "        print(\"-∞\")\n",
    "    else:\n",
    "        xp = 10*x / (x + y + z)\n",
    "        yf = 10*y / (x + y + z)\n",
    "        zc = 10*z / (x + y + z)\n",
    "        f_PF = 3 - xp\n",
    "        f_CF = 1- yf\n",
    "        f_PC = 6 - zc\n",
    "        f_Index = math.sqrt(f_PF**2 + f_CF**2 + f_PC**2) #0で最高&大きいほど悪い\n",
    "        print(\"__________________________________________\")\n",
    "        print(\"PFCバランス：\" + str(round(xp)) + \":\" + str(round(yf)) + \":\" + str(round(zc)))\n",
    "        print(\"PFC指数：\"+str(f_Index))\n",
    "        return f_Index"
   ]
  },
  {
   "cell_type": "code",
   "execution_count": null,
   "id": "a24e56f8",
   "metadata": {},
   "outputs": [],
   "source": [
    "dataset = pd.read_csv('calcal.csv',header=0) "
   ]
  },
  {
   "cell_type": "code",
   "execution_count": null,
   "id": "46050ff5",
   "metadata": {},
   "outputs": [],
   "source": [
    "material_data = pd.read_csv('material.csv',header=0) "
   ]
  },
  {
   "cell_type": "code",
   "execution_count": null,
   "id": "747b0c3c",
   "metadata": {},
   "outputs": [],
   "source": [
    "dataset #チェック"
   ]
  },
  {
   "cell_type": "code",
   "execution_count": null,
   "id": "a63fb18f",
   "metadata": {},
   "outputs": [],
   "source": [
    "material_data #チェック"
   ]
  },
  {
   "cell_type": "code",
   "execution_count": null,
   "id": "6c8d79de",
   "metadata": {},
   "outputs": [],
   "source": [
    "#変数定義\n",
    "id = dataset.iloc[:, 0]\n",
    "date = dataset.iloc[:, 1]\n",
    "kcal = dataset.iloc[:, 2]\n",
    "p = dataset.iloc[:, 3]\n",
    "f = dataset.iloc[:, 4]\n",
    "c = dataset.iloc[:, 5]"
   ]
  },
  {
   "cell_type": "code",
   "execution_count": null,
   "id": "7a3a8aa5",
   "metadata": {},
   "outputs": [],
   "source": [
    "plt.scatter(id, kcal)\n",
    "plt.plot(id, kcal)\n",
    "plt.xlabel(' ID')\n",
    "plt.ylabel('kcal')\n",
    "plt.title('ID vs kcal')\n",
    "plt.show()"
   ]
  },
  {
   "cell_type": "code",
   "execution_count": null,
   "id": "954947a8",
   "metadata": {},
   "outputs": [],
   "source": []
  },
  {
   "cell_type": "code",
   "execution_count": null,
   "id": "63959848",
   "metadata": {},
   "outputs": [],
   "source": []
  },
  {
   "cell_type": "code",
   "execution_count": null,
   "id": "2a5603d2",
   "metadata": {},
   "outputs": [],
   "source": [
    "import csv\n",
    "with open('pfc.csv', mode='w', newline='') as file:\n",
    "    writer = csv.writer(file)\n",
    "    writer.writerow(['PFC'])\n",
    "    for i in range(len(date)):\n",
    "        pfc_value = pfc(p[i], f[i], c[i])\n",
    "        writer.writerow([pfc_value])"
   ]
  },
  {
   "cell_type": "code",
   "execution_count": null,
   "id": "8b82ed55",
   "metadata": {},
   "outputs": [],
   "source": [
    "pfc_index_data = pd.read_csv('pfc.csv',header=0) "
   ]
  },
  {
   "cell_type": "code",
   "execution_count": null,
   "id": "b547d03d",
   "metadata": {},
   "outputs": [],
   "source": [
    "pfc_index_data #チェック"
   ]
  },
  {
   "cell_type": "code",
   "execution_count": null,
   "id": "bd18fe6d",
   "metadata": {},
   "outputs": [],
   "source": [
    "import pandas as pd\n",
    "\n",
    "result = pd.concat([id, pfc_index_data], axis=1)\n",
    "result.to_csv('merged_pfc_id.csv', index=False)\n",
    "merged_pfc_date = pd.read_csv('merged_pfc_id.csv',header=0) "
   ]
  },
  {
   "cell_type": "code",
   "execution_count": null,
   "id": "6b489436",
   "metadata": {},
   "outputs": [],
   "source": [
    "merged_pfc_date #チェック"
   ]
  },
  {
   "cell_type": "code",
   "execution_count": null,
   "id": "7a15ec17",
   "metadata": {},
   "outputs": [],
   "source": [
    "pfc_balance = merged_pfc_date.iloc[:, 1]"
   ]
  },
  {
   "cell_type": "code",
   "execution_count": null,
   "id": "854fd345",
   "metadata": {},
   "outputs": [],
   "source": [
    "plt.scatter(id, pfc_balance)\n",
    "plt.plot(id, pfc_balance)\n",
    "plt.xlabel('ID')\n",
    "plt.ylabel('pfc_balance')\n",
    "plt.title('ID vs pfc_balance')\n",
    "plt.show()"
   ]
  },
  {
   "cell_type": "code",
   "execution_count": null,
   "id": "1a4e618b",
   "metadata": {},
   "outputs": [],
   "source": [
    "#全ての値をチェック\n",
    "for i in range(len(date)):\n",
    "    pfc(p[i], f[i], c[i])"
   ]
  }
 ],
 "metadata": {
  "kernelspec": {
   "display_name": "Python 3 (ipykernel)",
   "language": "python",
   "name": "python3"
  },
  "language_info": {
   "codemirror_mode": {
    "name": "ipython",
    "version": 3
   },
   "file_extension": ".py",
   "mimetype": "text/x-python",
   "name": "python",
   "nbconvert_exporter": "python",
   "pygments_lexer": "ipython3",
   "version": "3.9.12"
  }
 },
 "nbformat": 4,
 "nbformat_minor": 5
}
